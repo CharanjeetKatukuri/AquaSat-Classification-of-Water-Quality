{
  "nbformat": 4,
  "nbformat_minor": 0,
  "metadata": {
    "colab": {
      "provenance": [],
      "gpuType": "T4"
    },
    "kernelspec": {
      "name": "python3",
      "display_name": "Python 3"
    },
    "language_info": {
      "name": "python"
    },
    "accelerator": "GPU"
  },
  "cells": [
    {
      "cell_type": "code",
      "execution_count": 1,
      "metadata": {
        "id": "YQq6fiph58Sh"
      },
      "outputs": [],
      "source": [
        "import numpy as np\n",
        "import pandas as pd\n",
        "import matplotlib.pyplot as plt\n",
        "import seaborn as sns"
      ]
    },
    {
      "cell_type": "code",
      "source": [
        "from sklearn.model_selection import train_test_split\n",
        "from sklearn.preprocessing import StandardScaler, LabelEncoder\n",
        "from sklearn.metrics import accuracy_score, classification_report, confusion_matrix"
      ],
      "metadata": {
        "id": "Nlpy4DJ06ped"
      },
      "execution_count": 2,
      "outputs": []
    },
    {
      "cell_type": "code",
      "source": [
        "from sklearn.ensemble import RandomForestClassifier\n",
        "from xgboost import XGBClassifier\n",
        "from sklearn.naive_bayes import GaussianNB"
      ],
      "metadata": {
        "id": "5sww73Vn6zQN"
      },
      "execution_count": 3,
      "outputs": []
    },
    {
      "cell_type": "code",
      "source": [
        "from tensorflow.keras.models import Sequential\n",
        "from tensorflow.keras.layers import Dense, Dropout"
      ],
      "metadata": {
        "id": "nENCIlCW632d"
      },
      "execution_count": 4,
      "outputs": []
    },
    {
      "cell_type": "markdown",
      "source": [
        "# Loading the Dataset"
      ],
      "metadata": {
        "id": "nOfat8YGCFla"
      }
    },
    {
      "cell_type": "code",
      "source": [
        "dataset_path = \"/content/sr_wq_rs_join.csv\"\n",
        "df = pd.read_csv(dataset_path, encoding='latin1')"
      ],
      "metadata": {
        "id": "s9GBB8cz6-Mf"
      },
      "execution_count": 5,
      "outputs": []
    },
    {
      "cell_type": "code",
      "source": [
        "unnecessary_columns = ['system:index', 'SiteID', 'date_unity', 'path', 'row', 'sat', '.geo', 'endtime', 'date', 'date_only', 'source', 'lat', 'long', 'TZID', 'date_utc', 'clouds', 'time', 'landsat_id', 'timediff', 'pwater', 'type', 'id']\n",
        "df = df.drop(columns=unnecessary_columns, errors='ignore')"
      ],
      "metadata": {
        "id": "K2Bn0dss7HVm"
      },
      "execution_count": 6,
      "outputs": []
    },
    {
      "cell_type": "code",
      "source": [
        "df.fillna(df.median(), inplace=True)"
      ],
      "metadata": {
        "id": "173LC2iA7LBQ"
      },
      "execution_count": 7,
      "outputs": []
    },
    {
      "cell_type": "markdown",
      "source": [
        "# Feature Selection"
      ],
      "metadata": {
        "id": "aZnENQ51CNCc"
      }
    },
    {
      "cell_type": "code",
      "source": [
        "features = ['chl_a', 'doc', 'secchi', 'tss', 'p_sand']"
      ],
      "metadata": {
        "id": "UXTV-sPm7N8g"
      },
      "execution_count": 8,
      "outputs": []
    },
    {
      "cell_type": "code",
      "source": [
        "def classify_suitability(value):\n",
        "    if value >= 0.7:\n",
        "        return \"Highly Preferred\"\n",
        "    elif 0.4 <= value < 0.7:\n",
        "        return \"Partially Preferred\"\n",
        "    else:\n",
        "        return \"Least Preferred\""
      ],
      "metadata": {
        "id": "i-weVss97QfR"
      },
      "execution_count": 9,
      "outputs": []
    },
    {
      "cell_type": "code",
      "source": [
        "df['water_suitability'] = (df['chl_a'] * 0.3 + df['secchi'] * 0.3 + df['doc'] * 0.2 + df['tss'] * 0.2) / 4  # Example formula\n",
        "df['agriculture_suitability'] = df['water_suitability'].apply(classify_suitability)"
      ],
      "metadata": {
        "id": "iqcFvAzl7TWl"
      },
      "execution_count": 10,
      "outputs": []
    },
    {
      "cell_type": "markdown",
      "source": [
        "# Label Encoding"
      ],
      "metadata": {
        "id": "oxyv41ThCQm0"
      }
    },
    {
      "cell_type": "code",
      "source": [
        "label_encoder = LabelEncoder()\n",
        "df['suitability_encoded'] = label_encoder.fit_transform(df['agriculture_suitability'])"
      ],
      "metadata": {
        "id": "kJK8y4x37W7S"
      },
      "execution_count": 11,
      "outputs": []
    },
    {
      "cell_type": "code",
      "source": [
        "X = df[features]\n",
        "y = df['suitability_encoded']"
      ],
      "metadata": {
        "id": "y7kq_OuP7Zzo"
      },
      "execution_count": 12,
      "outputs": []
    },
    {
      "cell_type": "markdown",
      "source": [
        "# Model Training"
      ],
      "metadata": {
        "id": "ELDNdbjTCTJV"
      }
    },
    {
      "cell_type": "code",
      "source": [
        "X_train, X_test, y_train, y_test = train_test_split(X, y, test_size=0.2, random_state=42)"
      ],
      "metadata": {
        "id": "aeyTHnvZ7eAY"
      },
      "execution_count": 13,
      "outputs": []
    },
    {
      "cell_type": "code",
      "source": [
        "scaler = StandardScaler()\n",
        "X_train = scaler.fit_transform(X_train)\n",
        "X_test = scaler.transform(X_test)"
      ],
      "metadata": {
        "id": "qJTgc9a17fF5"
      },
      "execution_count": 14,
      "outputs": []
    },
    {
      "cell_type": "markdown",
      "source": [
        "# Random Forest"
      ],
      "metadata": {
        "id": "G8vTPE1ZCWHI"
      }
    },
    {
      "cell_type": "code",
      "source": [
        "rf_model = RandomForestClassifier(n_estimators=200, max_depth=10, random_state=42)\n",
        "rf_model.fit(X_train, y_train)\n",
        "rf_preds = rf_model.predict(X_test)\n",
        "print(\"Random Forest Accuracy:\", accuracy_score(y_test, rf_preds))"
      ],
      "metadata": {
        "colab": {
          "base_uri": "https://localhost:8080/"
        },
        "id": "7nHYZg0I7hwb",
        "outputId": "7706f281-f98d-4dd5-eed2-4ed6fe0683f9"
      },
      "execution_count": 15,
      "outputs": [
        {
          "output_type": "stream",
          "name": "stdout",
          "text": [
            "Random Forest Accuracy: 0.999187982135607\n"
          ]
        }
      ]
    },
    {
      "cell_type": "markdown",
      "source": [
        "# XGBoost Model"
      ],
      "metadata": {
        "id": "R9HCGRZdCYmU"
      }
    },
    {
      "cell_type": "code",
      "source": [
        "xgb_model = XGBClassifier(n_estimators=300, learning_rate=0.05, max_depth=10)\n",
        "xgb_model.fit(X_train, y_train)\n",
        "xgb_preds = xgb_model.predict(X_test)\n",
        "print(\"XGBoost Accuracy:\", accuracy_score(y_test, xgb_preds))"
      ],
      "metadata": {
        "colab": {
          "base_uri": "https://localhost:8080/"
        },
        "id": "Ovax19fa71Tu",
        "outputId": "36eea01d-a6cb-4499-80d8-79a16de0172c"
      },
      "execution_count": 16,
      "outputs": [
        {
          "output_type": "stream",
          "name": "stdout",
          "text": [
            "XGBoost Accuracy: 0.9994448449294456\n"
          ]
        }
      ]
    },
    {
      "cell_type": "markdown",
      "source": [
        "# Naive Bayes Model"
      ],
      "metadata": {
        "id": "J4aMz29BCbkI"
      }
    },
    {
      "cell_type": "code",
      "source": [
        "nb_model = GaussianNB()\n",
        "nb_model.fit(X_train, y_train)\n",
        "nb_preds = nb_model.predict(X_test)\n",
        "print(\"Naive Bayes Accuracy:\", accuracy_score(y_test, nb_preds))"
      ],
      "metadata": {
        "colab": {
          "base_uri": "https://localhost:8080/"
        },
        "id": "AOpjoISq8RvE",
        "outputId": "4df7ba25-7cd4-4692-d0ae-431be87a7cc3"
      },
      "execution_count": 17,
      "outputs": [
        {
          "output_type": "stream",
          "name": "stdout",
          "text": [
            "Naive Bayes Accuracy: 0.9836270683669326\n"
          ]
        }
      ]
    },
    {
      "cell_type": "markdown",
      "source": [
        "# Neural Networks"
      ],
      "metadata": {
        "id": "UqduW5fyCexG"
      }
    },
    {
      "cell_type": "code",
      "source": [
        "nn_model = Sequential()\n",
        "nn_model.add(Dense(128, activation='relu', input_shape=(X_train.shape[1],)))\n",
        "nn_model.add(Dropout(0.3))\n",
        "nn_model.add(Dense(64, activation='relu'))\n",
        "nn_model.add(Dropout(0.3))\n",
        "nn_model.add(Dense(32, activation='relu'))\n",
        "nn_model.add(Dense(3, activation='softmax'))"
      ],
      "metadata": {
        "colab": {
          "base_uri": "https://localhost:8080/"
        },
        "id": "ff2hdEes8ear",
        "outputId": "c6673456-f87b-4d86-93a3-e0d8dc27e8f8"
      },
      "execution_count": 19,
      "outputs": [
        {
          "output_type": "stream",
          "name": "stderr",
          "text": [
            "/usr/local/lib/python3.11/dist-packages/keras/src/layers/core/dense.py:87: UserWarning: Do not pass an `input_shape`/`input_dim` argument to a layer. When using Sequential models, prefer using an `Input(shape)` object as the first layer in the model instead.\n",
            "  super().__init__(activity_regularizer=activity_regularizer, **kwargs)\n"
          ]
        }
      ]
    },
    {
      "cell_type": "code",
      "source": [
        "from tensorflow.keras.callbacks import EarlyStopping"
      ],
      "metadata": {
        "id": "VLbGSoAz--Ci"
      },
      "execution_count": 21,
      "outputs": []
    },
    {
      "cell_type": "markdown",
      "source": [
        "# Optimization"
      ],
      "metadata": {
        "id": "KDZBBdQyCnBc"
      }
    },
    {
      "cell_type": "code",
      "source": [
        "nn_model.compile(optimizer='adam', loss='sparse_categorical_crossentropy', metrics=['accuracy'])\n",
        "early_stopping = EarlyStopping(monitor='val_loss', patience=5, restore_best_weights=True)\n",
        "nn_model.fit(X_train, y_train, epochs=30, batch_size=32, validation_data=(X_test, y_test), callbacks=[early_stopping])"
      ],
      "metadata": {
        "colab": {
          "base_uri": "https://localhost:8080/"
        },
        "id": "lqzWeouS-4Bt",
        "outputId": "c06889d8-074d-40a5-cf20-a5e0d8ac6c6f"
      },
      "execution_count": 22,
      "outputs": [
        {
          "output_type": "stream",
          "name": "stdout",
          "text": [
            "Epoch 1/30\n",
            "\u001b[1m15086/15086\u001b[0m \u001b[32m━━━━━━━━━━━━━━━━━━━━\u001b[0m\u001b[37m\u001b[0m \u001b[1m56s\u001b[0m 3ms/step - accuracy: 0.9980 - loss: 0.0053 - val_accuracy: 0.9989 - val_loss: 0.0029\n",
            "Epoch 2/30\n",
            "\u001b[1m15086/15086\u001b[0m \u001b[32m━━━━━━━━━━━━━━━━━━━━\u001b[0m\u001b[37m\u001b[0m \u001b[1m77s\u001b[0m 3ms/step - accuracy: 0.9982 - loss: 0.0056 - val_accuracy: 0.9982 - val_loss: 0.0042\n",
            "Epoch 3/30\n",
            "\u001b[1m15086/15086\u001b[0m \u001b[32m━━━━━━━━━━━━━━━━━━━━\u001b[0m\u001b[37m\u001b[0m \u001b[1m80s\u001b[0m 3ms/step - accuracy: 0.9981 - loss: 0.0050 - val_accuracy: 0.9988 - val_loss: 0.0033\n",
            "Epoch 4/30\n",
            "\u001b[1m15086/15086\u001b[0m \u001b[32m━━━━━━━━━━━━━━━━━━━━\u001b[0m\u001b[37m\u001b[0m \u001b[1m84s\u001b[0m 3ms/step - accuracy: 0.9981 - loss: 0.0049 - val_accuracy: 0.9987 - val_loss: 0.0032\n",
            "Epoch 5/30\n",
            "\u001b[1m15086/15086\u001b[0m \u001b[32m━━━━━━━━━━━━━━━━━━━━\u001b[0m\u001b[37m\u001b[0m \u001b[1m51s\u001b[0m 3ms/step - accuracy: 0.9983 - loss: 0.0045 - val_accuracy: 0.9990 - val_loss: 0.0027\n",
            "Epoch 6/30\n",
            "\u001b[1m15086/15086\u001b[0m \u001b[32m━━━━━━━━━━━━━━━━━━━━\u001b[0m\u001b[37m\u001b[0m \u001b[1m82s\u001b[0m 3ms/step - accuracy: 0.9984 - loss: 0.0052 - val_accuracy: 0.9991 - val_loss: 0.0026\n",
            "Epoch 7/30\n",
            "\u001b[1m15086/15086\u001b[0m \u001b[32m━━━━━━━━━━━━━━━━━━━━\u001b[0m\u001b[37m\u001b[0m \u001b[1m51s\u001b[0m 3ms/step - accuracy: 0.9981 - loss: 0.0048 - val_accuracy: 0.9990 - val_loss: 0.0035\n",
            "Epoch 8/30\n",
            "\u001b[1m15086/15086\u001b[0m \u001b[32m━━━━━━━━━━━━━━━━━━━━\u001b[0m\u001b[37m\u001b[0m \u001b[1m47s\u001b[0m 3ms/step - accuracy: 0.9984 - loss: 0.0050 - val_accuracy: 0.9991 - val_loss: 0.0028\n",
            "Epoch 9/30\n",
            "\u001b[1m15086/15086\u001b[0m \u001b[32m━━━━━━━━━━━━━━━━━━━━\u001b[0m\u001b[37m\u001b[0m \u001b[1m52s\u001b[0m 3ms/step - accuracy: 0.9984 - loss: 0.0042 - val_accuracy: 0.9987 - val_loss: 0.0030\n",
            "Epoch 10/30\n",
            "\u001b[1m15086/15086\u001b[0m \u001b[32m━━━━━━━━━━━━━━━━━━━━\u001b[0m\u001b[37m\u001b[0m \u001b[1m52s\u001b[0m 3ms/step - accuracy: 0.9983 - loss: 0.0046 - val_accuracy: 0.9985 - val_loss: 0.0037\n",
            "Epoch 11/30\n",
            "\u001b[1m15086/15086\u001b[0m \u001b[32m━━━━━━━━━━━━━━━━━━━━\u001b[0m\u001b[37m\u001b[0m \u001b[1m81s\u001b[0m 3ms/step - accuracy: 0.9984 - loss: 0.0047 - val_accuracy: 0.9982 - val_loss: 0.0041\n"
          ]
        },
        {
          "output_type": "execute_result",
          "data": {
            "text/plain": [
              "<keras.src.callbacks.history.History at 0x7d97994c5190>"
            ]
          },
          "metadata": {},
          "execution_count": 22
        }
      ]
    },
    {
      "cell_type": "markdown",
      "source": [
        "# Evaluation of the Model"
      ],
      "metadata": {
        "id": "I1o2mkqtCtJp"
      }
    },
    {
      "cell_type": "code",
      "source": [
        "nn_preds = np.argmax(nn_model.predict(X_test), axis=1)\n",
        "print(\"Neural Network Accuracy:\", accuracy_score(y_test, nn_preds))"
      ],
      "metadata": {
        "colab": {
          "base_uri": "https://localhost:8080/"
        },
        "id": "IOnYWNB0B3ZI",
        "outputId": "c8f631c9-18b2-4b36-c1ad-e396a7db6a99"
      },
      "execution_count": 23,
      "outputs": [
        {
          "output_type": "stream",
          "name": "stdout",
          "text": [
            "\u001b[1m3772/3772\u001b[0m \u001b[32m━━━━━━━━━━━━━━━━━━━━\u001b[0m\u001b[37m\u001b[0m \u001b[1m7s\u001b[0m 2ms/step\n",
            "Neural Network Accuracy: 0.9991382667561544\n"
          ]
        }
      ]
    },
    {
      "cell_type": "markdown",
      "source": [
        "# Classification Report"
      ],
      "metadata": {
        "id": "QFTa8EcsCvgG"
      }
    },
    {
      "cell_type": "code",
      "source": [
        "print(\"\\nRandom Forest Classification Report:\\n\", classification_report(y_test, rf_preds))\n",
        "print(\"\\nXGBoost Classification Report:\\n\", classification_report(y_test, xgb_preds))\n",
        "print(\"\\nNaive Bayes Classification Report:\\n\", classification_report(y_test, nb_preds))\n",
        "print(\"\\nNeural Network Classification Report:\\n\", classification_report(y_test, nn_preds))"
      ],
      "metadata": {
        "colab": {
          "base_uri": "https://localhost:8080/"
        },
        "id": "GyoTCJxmB-ed",
        "outputId": "82525636-6da8-471b-ae3a-b04b0819b42e"
      },
      "execution_count": 24,
      "outputs": [
        {
          "output_type": "stream",
          "name": "stdout",
          "text": [
            "\n",
            "Random Forest Classification Report:\n",
            "               precision    recall  f1-score   support\n",
            "\n",
            "           0       1.00      1.00      1.00    119601\n",
            "           1       0.88      0.35      0.50        20\n",
            "           2       0.96      0.94      0.95      1066\n",
            "\n",
            "    accuracy                           1.00    120687\n",
            "   macro avg       0.95      0.76      0.82    120687\n",
            "weighted avg       1.00      1.00      1.00    120687\n",
            "\n",
            "\n",
            "XGBoost Classification Report:\n",
            "               precision    recall  f1-score   support\n",
            "\n",
            "           0       1.00      1.00      1.00    119601\n",
            "           1       0.92      0.60      0.73        20\n",
            "           2       0.97      0.97      0.97      1066\n",
            "\n",
            "    accuracy                           1.00    120687\n",
            "   macro avg       0.96      0.86      0.90    120687\n",
            "weighted avg       1.00      1.00      1.00    120687\n",
            "\n",
            "\n",
            "Naive Bayes Classification Report:\n",
            "               precision    recall  f1-score   support\n",
            "\n",
            "           0       1.00      0.99      0.99    119601\n",
            "           1       0.04      1.00      0.08        20\n",
            "           2       0.29      0.59      0.39      1066\n",
            "\n",
            "    accuracy                           0.98    120687\n",
            "   macro avg       0.45      0.86      0.49    120687\n",
            "weighted avg       0.99      0.98      0.99    120687\n",
            "\n",
            "\n",
            "Neural Network Classification Report:\n",
            "               precision    recall  f1-score   support\n",
            "\n",
            "           0       1.00      1.00      1.00    119601\n",
            "           1       0.00      0.00      0.00        20\n",
            "           2       0.96      0.94      0.95      1066\n",
            "\n",
            "    accuracy                           1.00    120687\n",
            "   macro avg       0.65      0.65      0.65    120687\n",
            "weighted avg       1.00      1.00      1.00    120687\n",
            "\n"
          ]
        },
        {
          "output_type": "stream",
          "name": "stderr",
          "text": [
            "/usr/local/lib/python3.11/dist-packages/sklearn/metrics/_classification.py:1565: UndefinedMetricWarning: Precision is ill-defined and being set to 0.0 in labels with no predicted samples. Use `zero_division` parameter to control this behavior.\n",
            "  _warn_prf(average, modifier, f\"{metric.capitalize()} is\", len(result))\n",
            "/usr/local/lib/python3.11/dist-packages/sklearn/metrics/_classification.py:1565: UndefinedMetricWarning: Precision is ill-defined and being set to 0.0 in labels with no predicted samples. Use `zero_division` parameter to control this behavior.\n",
            "  _warn_prf(average, modifier, f\"{metric.capitalize()} is\", len(result))\n",
            "/usr/local/lib/python3.11/dist-packages/sklearn/metrics/_classification.py:1565: UndefinedMetricWarning: Precision is ill-defined and being set to 0.0 in labels with no predicted samples. Use `zero_division` parameter to control this behavior.\n",
            "  _warn_prf(average, modifier, f\"{metric.capitalize()} is\", len(result))\n"
          ]
        }
      ]
    }
  ]
}